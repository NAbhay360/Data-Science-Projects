{
 "cells": [
  {
   "cell_type": "markdown",
   "metadata": {},
   "source": [
    "# Lab 4: Classification (Part 2) and Model Selection"
   ]
  },
  {
   "cell_type": "markdown",
   "metadata": {},
   "source": [
    "## Name: Abhay Narayanan (abhayn2)\n",
    "\n",
    "### Due Sept 29th, 2023 11:59 PM\n",
    "\n",
    "**Logistics and Lab Submission**\n",
    "\n",
    "Upload the pdf and code to Gradescope."
   ]
  },
  {
   "cell_type": "markdown",
   "metadata": {},
   "source": [
    "**What You Will Need To Know For This Lab**\n",
    "\n",
    "This lab covers a few more basic classifiers which can be used for M-ary classification:\n",
    "- Naive Bayes\n",
    "\n",
    "as well as cross-validation, a tool for model selection and assessment.\n",
    " \n",
    "\n",
    "Remember in many applications, the end goal is not always \"run a classifier\", like in a homework problem, but is to use the output of the classifier in the context of the problem at hand (e.g. detecting spam, identifying cancer, etc.). Because of this, some of our Engineering Design-type questions are designed to get you to think about the entire design problem at a high level.\n",
    "\n",
    "\n",
    "**Warning: Do not train on your test sets. You will automatically get zero points**"
   ]
  },
  {
   "cell_type": "markdown",
   "metadata": {},
   "source": [
    "**Preamble (don't change this)**"
   ]
  },
  {
   "cell_type": "code",
   "execution_count": 53,
   "metadata": {},
   "outputs": [
    {
     "name": "stdout",
     "output_type": "stream",
     "text": [
      "%pylab is deprecated, use %matplotlib inline and import the required libraries.\n",
      "Populating the interactive namespace from numpy and matplotlib\n"
     ]
    }
   ],
   "source": [
    "from __future__ import division\n",
    "%pylab inline\n",
    "import numpy as np\n",
    "from sklearn import neighbors\n",
    "from sklearn import svm\n",
    "#from sklearn import cross_validation\n",
    "from sklearn.model_selection import train_test_split\n",
    "from numpy import genfromtxt\n",
    "from sklearn.preprocessing import MinMaxScaler\n",
    "import glob"
   ]
  },
  {
   "cell_type": "markdown",
   "metadata": {},
   "source": [
    "### Problem 1: Spam Detection (70 points)\n",
    "\n",
    "In this problem, you will be constructing a crude spam detector. As you all know, when you receive an e-mail, it can be divided into one of two types: ham (useful mail, label $-1$) and spam (junk mail, label $+1$). In the [olden days](http://www.paulgraham.com/spam.html), people tried writing a bunch of rules to detect spam. However, it was quickly seen that machine learning approaches work fairly well for a little bit of work. \n",
    "\n",
    "You will be designing a spam detector by applying some of the classification techniques you learned in class to a batch of emails used to train and test [SpamAssassin](http://spamassassin.apache.org/), a leading anti-spam software package. \n",
    "\n",
    "Let the *vocabulary* of a dataset be a list of all terms occuring in a data set. So, for example, a vocabulary could be [\"cat\",\"dog\",\"chupacabra\", \"aerospace\", ...]. \n",
    "\n",
    "Our features will be based only the frequencies of terms in our vocabulary occuring in the e-mails (such an approach is called a *bag of words* approach, since we ignore the positions of the terms in the emails). The $j$-th feature is the number of times term $j$ in the vocabulary occurs in the email. If you are interested in further details on this model, you can see Chapters 6 and 13 in [Manning's Book](http://nlp.stanford.edu/IR-book/).\n",
    "\n",
    "You will use the following classifiers in this problem:\n",
    "- sklearn.naive_bayes.BernoulliNB (Naive Bayes Classifier with Bernoulli Model)\n",
    "- sklearn.naive_bayes.MultinomialNB (Naive Bayes Classifier with Multinomial Model)\n",
    "- sklearn.svm.LinearSVC (Linear Support Vector Machine)\n",
    "- sklearn.neighbors.KNeighborsClassifier (1-Nearest Neighbor Classifier)\n",
    "\n",
    "In the context of the Bernoulli Model for Naive Bayes, scikit-learn will binarize the features by interpretting the $j$-th feature to be $1$ if the $j$-th term in the vocabulary occurs in the email and $0$ otherwise. This is a categorical Naive Bayes model, with binary features. While we did not discuss the multinomial model in class, it operates directly on the frequencies of terms in the vocabulary, and is discussed in Section 13.2 in [Manning's Book](http://nlp.stanford.edu/IR-book/) (though you do not need to read this reference). Both the Bernoulli and Multinomial models are commonly used for Naive Bayes in text classification. "
   ]
  },
  {
   "cell_type": "markdown",
   "metadata": {},
   "source": [
    "A sample Ham email is:\n",
    "\n",
    "    From nic@starflung.com  Mon Jun 24 17:06:54 2002\n",
    "    Return-Path: 7910726.0.27May2002215326@mp.opensrs.net\n",
    "    Delivery-Date: Tue May 28 02:53:28 2002\n",
    "    Received: from mp.opensrs.net (mp.opensrs.net [216.40.33.45]) by\n",
    "        dogma.slashnull.org (8.11.6/8.11.6) with ESMTP id g4S1rSe14718 for\n",
    "        <zzz@spamassassin.taint.org>; Tue, 28 May 2002 02:53:28 +0100\n",
    "    Received: (from popensrs@localhost) by mp.opensrs.net (8.9.3/8.9.3) id\n",
    "        VAA04361; Mon, 27 May 2002 21:53:26 -0400\n",
    "    Message-Id: <7910726.0.27May2002215326@mp.opensrs.net>\n",
    "    Date: Mon, 27 May 2002 21:53:26 -0500 (EST)\n",
    "    From: \"Starflung NIC\" <nic@starflung.com>\n",
    "    To: <zzz@spamassassin.taint.org>\n",
    "    Subject: Automated 30 day renewal reminder 2002-05-27\n",
    "    X-Keywords: \n",
    "\n",
    "    The following domains that are registered as belonging\n",
    "    to you are due to expire within the next 60 days. If\n",
    "    you would like to renew them, please contact\n",
    "    nic@starflung.com; otherwise they will be deactivated\n",
    "    and may be registered by another.\n",
    "\n",
    "\n",
    "    Domain Name, Expiry Date\n",
    "    nutmegclothing.com, 2002-06-26\n",
    "    \n",
    "    \n",
    "A sample Spam email is: \n",
    "\n",
    "    From jjj@mymail.dk  Fri Aug 23 11:03:31 2002\n",
    "    Return-Path: <jjj@mymail.dk>\n",
    "    Delivered-To: zzzz@localhost.example.com\n",
    "    Received: from localhost (localhost [127.0.0.1])\n",
    "        by phobos.labs.example.com (Postfix) with ESMTP id 478B54415C\n",
    "        for <zzzz@localhost>; Fri, 23 Aug 2002 06:02:57 -0400 (EDT)\n",
    "    Received: from mail.webnote.net [193.120.211.219]\n",
    "        by localhost with POP3 (fetchmail-5.9.0)\n",
    "        for zzzz@localhost (single-drop); Fri, 23 Aug 2002 11:02:57 +0100 (IST)\n",
    "    Received: from smtp.easydns.com (smtp.easydns.com [205.210.42.30])\n",
    "        by webnote.net (8.9.3/8.9.3) with ESMTP id IAA08912;\n",
    "        Fri, 23 Aug 2002 08:13:36 +0100\n",
    "    From: jjj@mymail.dk\n",
    "    Received: from mymail.dk (unknown [61.97.34.233])\n",
    "        by smtp.easydns.com (Postfix) with SMTP\n",
    "        id 7484A2F85C; Fri, 23 Aug 2002 03:13:31 -0400 (EDT)\n",
    "    Reply-To: <jjj@mymail.dk>\n",
    "    Message-ID: <008c61d64eed$6184e5d5$4bc22de3@udnugg>\n",
    "    To: bbr_hooten@yahoo.com\n",
    "    Subject: HELP WANTED.  WORK FROM HOME REPS.\n",
    "    MiME-Version: 1.0\n",
    "    Content-Type: text/plain;\n",
    "        charset=\"iso-8859-1\"\n",
    "    X-Priority: 3 (Normal)\n",
    "    X-MSMail-Priority: Normal\n",
    "    X-Mailer: Microsoft Outlook, Build 10.0.2616\n",
    "    Importance: Normal\n",
    "    Date: Fri, 23 Aug 2002 03:13:31 -0400 (EDT)\n",
    "    Content-Transfer-Encoding: 8bit\n",
    "\n",
    "    Help wanted.  We are a 14 year old fortune 500 company, that is\n",
    "    growing at a tremendous rate.  We are looking for individuals who\n",
    "    want to work from home.\n",
    "\n",
    "    This is an opportunity to make an excellent income.  No experience\n",
    "    is required.  We will train you.\n",
    "\n",
    "    So if you are looking to be employed from home with a career that has\n",
    "    vast opportunities, then go:\n",
    "\n",
    "    http://www.basetel.com/wealthnow\n",
    "\n",
    "    We are looking for energetic and self motivated people.  If that is you\n",
    "    than click on the link and fill out the form, and one of our\n",
    "    employement specialist will contact you.\n",
    "\n",
    "    To be removed from our link simple go to:\n",
    "\n",
    "    http://www.basetel.com/remove.html\n",
    "\n",
    "\n",
    "    1349lmrd5-948HyhJ3622xXiM0-290VZdq6044fFvN0-799hUsU07l50\n",
    "\n"
   ]
  },
  {
   "cell_type": "markdown",
   "metadata": {},
   "source": [
    "First, we will load the data. Our dataset has a bit over 9000 emails, with about 25% of them being spam. We will use 50% of them as a training set, 25% of them as a validation set and 25% of them as a test set. "
   ]
  },
  {
   "cell_type": "code",
   "execution_count": 54,
   "metadata": {},
   "outputs": [],
   "source": [
    "# Get list of emails\n",
    "spamfiles=glob.glob('./Spam/*')\n",
    "hamfiles=glob.glob('./Ham/*')"
   ]
  },
  {
   "cell_type": "code",
   "execution_count": 55,
   "metadata": {},
   "outputs": [],
   "source": [
    "# First, we will split the files into the training, validation and test sets.\n",
    "\n",
    "np.random.seed(seed=222017) # seed the RNG for repeatability\n",
    "\n",
    "fnames=np.asarray(spamfiles+hamfiles)\n",
    "nfiles=fnames.size\n",
    "labels=np.ones(nfiles)\n",
    "labels[len(spamfiles):]=-1\n",
    "\n",
    "# Randomly permute the files we have\n",
    "idx=np.random.permutation(nfiles)\n",
    "fnames=fnames[idx]\n",
    "labels=labels[idx]\n",
    "\n",
    "#Split the file names into which set they belong to\n",
    "tname=fnames[:int(nfiles/2)]\n",
    "trainlabels=labels[:int(nfiles/2)]\n",
    "vname=fnames[int(nfiles/2):int(nfiles*3/4)]\n",
    "vallabels=labels[int(nfiles/2):int(nfiles*3/4)]\n",
    "tename=fnames[int(3/4*nfiles):]\n",
    "testlabels=labels[int(3/4*nfiles):]"
   ]
  },
  {
   "cell_type": "code",
   "execution_count": 57,
   "metadata": {},
   "outputs": [],
   "source": [
    "from sklearn.feature_extraction.text import CountVectorizer\n",
    "\n",
    "# Get our Bag of Words Features from the data\n",
    "bow = CountVectorizer(input='filename',encoding='iso-8859-1',binary=False)\n",
    "traindata=bow.fit_transform(tname)\n",
    "valdata=bow.transform(vname)\n",
    "testdata=bow.transform(tename)"
   ]
  },
  {
   "cell_type": "markdown",
   "metadata": {},
   "source": [
    "The $100$ most and least common terms in the vocabulary are:"
   ]
  },
  {
   "cell_type": "code",
   "execution_count": 58,
   "metadata": {},
   "outputs": [
    {
     "name": "stderr",
     "output_type": "stream",
     "text": [
      "/Users/abhaynarayanan/opt/anaconda3/lib/python3.9/site-packages/sklearn/utils/deprecation.py:87: FutureWarning: Function get_feature_names is deprecated; get_feature_names is deprecated in 1.0 and will be removed in 1.2. Please use get_feature_names_out instead.\n",
      "  warnings.warn(msg, category=FutureWarning)\n"
     ]
    },
    {
     "name": "stdout",
     "output_type": "stream",
     "text": [
      "100 most common terms:  slashnull,dogma,click,not,request,ist,exmh,as,thu,wed,jmason,have,cnet,lists,or,are,mon,html,freshrpms,date,mailman,align,message,00,12,users,postfix,text,arial,type,bgcolor,rpm,ie,22,linux,version,be,taint,your,mailto,20,admin,table,sourceforge,content,color,jm,face,on,border,example,127,aug,gif,this,href,10,img,subject,src,09,nbsp,sep,it,that,0100,height,spamassassin,esmtp,is,size,xent,you,fork,tr,in,list,11,www,br,width,received,localhost,id,of,and,org,by,with,for,net,td,font,2002,from,3d,http,to,the,com \n",
      "\n",
      "100 least common terms:  ÿÿÿÿÿÿÿÿÿÿÿÿÿÿÿÿÿÿÿÿÿÿÿÿÿÿÿÿÿÿÿÿÿÿÿÿÿÿÿÿÿó,snd_index,crittenden,vghhbmsgww91iezvcibzb3vyifrpbwusiefu,snd_major,criuqccibiqnijvkpqkraocgwoeadz9qikwzkkxzo94ow8jaq7kza2xlzdpk9fw07swhmk6zfx4k,crjowqpf7aywdqg8cke9fwakiatnugirizcja5ougeakmggdbyyditzrgcracagvtgzb05k6j8,vgh9,crlsbd,crlsca,vgggkvaadjknu,vgfliejvpgjypldvcmtvdxqgncbqywnrpc9ipjxicj4gidxm,cro19c3zkymlwxiwrclxwvnkbo,vgfby5giuasgpjnj9rtm42jaariaaabm77x,croatian,croatians,sndqbqy,crocodile,li4xiedyzwf0ifbyawnliq0kqsakmzawkybdb21iaw5lzcbszxrhawwgvmfs,li4uli4uli4umtegbw9udghzihbhc3nlzcb0agvuigl0igx1y2tpbhkgy2ft,li4uli4gjduwmcardqozli4uli4gjdusmdawicsgnc4uli4uicq1mcwwmdag,li4gjduwmcardqogicagicagicagicagicagicazli4uli4gjdusmdawicsn,sneakers,croininsimon,croissant,vgeo6v6s0zgo3luaiczcnu6krbnq,cronenberg,cronies,croninsimon,cronjobs,critiqued,vghhdcdzihjpz2h0isbjzib5b3ugagf2zsbjyxigcgf5bwvudhmsihjlbnqspgjypg0kicagicag,vghhdcdzptewmcbwzw9wbgugcmvzcg9uzgvkigfuzcbvcmrlcmvkifjlcg9y,criticize,libadm,criminologia,sncmulpw40hx1jbxrzu2fvmkcmq,cringe,lib_dp_tfcv,cripple,sncqcnkttecctgn5bvtz7vvkpqqrqc6zzxogcy7uv2qkdtio8kmkdrxvgcvw2pchmrvntc,cripples,vgkrcoy7cw8w9xdvzq4wnxiaebf5b3p5,cripssake,cription,vgkpyjuhocexvfofdf0x2butactlaascz19xa9tqovhex,vgk1b3zevjrnvte0izbf82iws9yunh3yk5vpxgbpcbuhjuc8n5fppfm4z87lg,vgjscoci,lhxni1x1kp8wpyeavftigutqlgjou,liars,liapoz,snd_cards_limit,cristine,snd_device_mode,vghlihjlyxnvbibmb3igdghlicjjyxnoiibpcybub3qgymvjyxvzzsb0aglz,vghlidaumiugcmvzcg9uc2ugdg8gdghhdcbpcyaxmdawig9yzgvycybmb3in,criterious,liam_mac_r,critically,criticalpath,criticise,criticisim,snd_id,liagvmlzaxq6igh0dha6ly93d3cuywzmb3jkywjszs1kb21haw5zlmnvbsb0,snd_amp_gpio,vgem05sx1zigu7,vgegbepycobcieacp8dabraqqlqsxgk7qs4gpkc1kpyajg7ghfgeeplsnwvlquljprycfqsqx1eb,vgd2xuaeribtqvopwbga5x,lhjrjtjznanygo9w4bbc6gy30qqlb2acfxdeaqogayslupkqkakg,lhjrfspwvo,vfz6ns9a5vreuanz6tizri9lq1fpmzgnwerse6ay,sneakier,lhhjy7cysohyngev7alcegggbvixwrbxfdo0fquldavryqs7hsqmtqylpatjvwlzou42krg8alzl,lhhgc8c93twndybyz87mljkwyefouktdiwbvstexwl62nhhiiglf4zz1xpwibtjykkug,crqwbmwcjgclmc6czzqmdgoamkyjpcocgazcw4azmsbiytvwiqzgbw7gaoabg0zqwfslciagauyb,crrlnrbxvkknrtigrmowkajbsgpwgb1axrqayy4tikaifdfmqjggbhoenbpqbgayh,lhgubu5p5bx,vfyy6x,crs4s4ulhldawv5gafss0r0r0ontigzc7,vfyxeuedwacdjxriumtvrkybkfketsuq,lhg,vfxmobf8xedxwcyr,lhnpm5q,crts,crua,vfxd1nktpwakkaa2qougeb08zabg4kk1kgumo3bsqi0xcjybhibogmsjgkcaz17nncogwlenelbt,crucially,lhfymtlomst3,vfwsmnpxx9lgc2lonue,crudely,lhc5a7swao1rvec8fzbwts8a75tfdkvcegdnwaqowj8ddeabcburni1mykhs0kieouosb2jhaijq,lhbxvzinmgtulpbgw,lhbxvzinmgq3jvc,lhapayggarbgmx88mijp8pe,crui,lhamo,lhaigood,lh6riid,crtyler1,snatches\n"
     ]
    }
   ],
   "source": [
    "counts=np.reshape(np.asarray(np.argsort(traindata.sum(axis=0))),-1)\n",
    "vocab=np.reshape(np.asarray(bow.get_feature_names()),-1)\n",
    "print (\"100 most common terms: \" , ','.join(str(s) for s in vocab[counts[-100:]]), \"\\n\")\n",
    "print (\"100 least common terms: \" , ','.join(str(s) for s in vocab[counts[:100]]))"
   ]
  },
  {
   "cell_type": "markdown",
   "metadata": {},
   "source": [
    "We will have our training data in `traindata` (with labels in `trainlabels`), validation data in `valdata` (with labels in `vallabels`) and test data in `testdata` (with labels in `testlabels`)."
   ]
  },
  {
   "cell_type": "markdown",
   "metadata": {},
   "source": [
    "For each of the following classifiers **(10 points each)**:\n",
    "- sklearn.naive_bayes.BernoulliNB (Naive Bayes Classifier with Bernoulli Model)\n",
    "- sklearn.naive_bayes.MultinomialNB (Naive Bayes Classifier with Multinomial Model)\n",
    "- sklearn.svm.LinearSVC (Linear Support Vector Machine)\n",
    "- sklearn.neighbors.KNeighborsClassifier (as a 1-Nearest Neighbor Classifier)\n",
    "\n",
    "In this question, you are required to finish the followings:\n",
    "1. Train on the training data in `traindata` with corresponding labels `trainlabels`. Use the default parameters, unless otherwise noted.\n",
    "2. Report Training Error.\n",
    "3. Report Validation Error.\n",
    "4. Report the time it takes to fit the classifier (i.e. time to perform xxx.fit(X,y)).\n",
    "5. Report the time it takes to run the classifier on the validation data (i.e. time to perform xxx.predict(X,y)).\n",
    "\n"
   ]
  },
  {
   "cell_type": "code",
   "execution_count": 59,
   "metadata": {},
   "outputs": [
    {
     "name": "stdout",
     "output_type": "stream",
     "text": [
      "BernoulliNB:\n",
      "Training Error =  0.22165169020111253\n",
      "Fit Time =  0.03994488716125488\n",
      "Validation Error =  0.38339751818570816\n",
      "Validation Data Time =  0.02254796028137207 \n",
      "\n",
      "MultinomialNB:\n",
      "Training Error =  0.0658964484381686\n",
      "Fit Time =  0.01764702796936035\n",
      "Validation Error =  0.12494651262302096\n",
      "Validation Data Time =  0.005064249038696289 \n",
      "\n",
      "LinearSVC:\n"
     ]
    },
    {
     "name": "stderr",
     "output_type": "stream",
     "text": [
      "/Users/abhaynarayanan/opt/anaconda3/lib/python3.9/site-packages/sklearn/svm/_base.py:1206: ConvergenceWarning: Liblinear failed to converge, increase the number of iterations.\n",
      "  warnings.warn(\n"
     ]
    },
    {
     "name": "stdout",
     "output_type": "stream",
     "text": [
      "Training Error =  0.0\n",
      "Fit Time =  0.6422328948974609\n",
      "Validation Error =  0.032520325203252036\n",
      "Validation Data Time =  0.0022351741790771484 \n",
      "\n",
      "KNeighborsClassifier:\n",
      "Training Error =  0.10868635002139496\n",
      "Fit Time =  0.0030498504638671875\n",
      "Validation Error =  0.1386392811296534\n",
      "Validation Data Time =  1.7408080101013184 \n",
      "\n"
     ]
    }
   ],
   "source": [
    "# Put your code here\n",
    "\n",
    "from sklearn.naive_bayes import BernoulliNB\n",
    "from sklearn.naive_bayes import MultinomialNB\n",
    "from sklearn.svm import LinearSVC\n",
    "from sklearn.neighbors import KNeighborsClassifier\n",
    "\n",
    "import time\n",
    "from sklearn.metrics import mean_squared_error\n",
    "\n",
    "print(\"BernoulliNB:\")\n",
    "x = BernoulliNB()\n",
    "\n",
    "start = time.time()\n",
    "\n",
    "x.fit(traindata, trainlabels)\n",
    "    \n",
    "end = time.time()\n",
    "pred = x.predict(traindata)\n",
    "time_run = end - start\n",
    "\n",
    "#training_error = mean_squared_error(trainlabels,pred)\n",
    "training_error = np.mean(np.square(np.array(pred)-np.array(trainlabels)))\n",
    "print(\"Training Error = \", training_error)\n",
    "print(\"Fit Time = \", time_run)\n",
    "\n",
    "start1 = time.time()\n",
    "pred1 = x.predict(valdata)\n",
    "end1 = time.time()\n",
    "time_run1 = end1 - start1\n",
    "\n",
    "validation_error = mean_squared_error(vallabels,pred1)\n",
    "print(\"Validation Error = \", validation_error)\n",
    "print(\"Validation Data Time = \", time_run1, \"\\n\")\n",
    "\n",
    "\n",
    "#MULTINOMIAL \n",
    "\n",
    "print(\"MultinomialNB:\")\n",
    "x = MultinomialNB()\n",
    "\n",
    "start = time.time()\n",
    "\n",
    "x.fit(traindata, trainlabels)\n",
    "    \n",
    "end = time.time()\n",
    "pred = x.predict(traindata)\n",
    "time_run = end - start\n",
    "\n",
    "#training_error = mean_squared_error(trainlabels,pred)\n",
    "training_error = np.mean(np.square(np.array(pred)-np.array(trainlabels)))\n",
    "print(\"Training Error = \", training_error)\n",
    "print(\"Fit Time = \", time_run)\n",
    "\n",
    "start1 = time.time()\n",
    "pred1 = x.predict(valdata)\n",
    "end1 = time.time()\n",
    "time_run1 = end1 - start1\n",
    "\n",
    "validation_error = mean_squared_error(vallabels,pred1)\n",
    "print(\"Validation Error = \", validation_error)\n",
    "print(\"Validation Data Time = \", time_run1, \"\\n\")\n",
    "\n",
    "#LINEAR\n",
    "\n",
    "print(\"LinearSVC:\")\n",
    "y = LinearSVC()\n",
    "\n",
    "start = time.time()\n",
    "\n",
    "y.fit(traindata, trainlabels)\n",
    "\n",
    "    \n",
    "end = time.time()\n",
    "pred = y.predict(traindata)\n",
    "time_run = (end - start)\n",
    "\n",
    "#training_error = mean_squared_error(trainlabels,pred)\n",
    "training_error = np.mean(np.square(np.array(pred)-np.array(trainlabels)))\n",
    "print(\"Training Error = \", training_error)\n",
    "print(\"Fit Time = \", time_run)\n",
    "\n",
    "start1 = time.time()\n",
    "pred1 = y.predict(valdata)\n",
    "end1 = time.time()\n",
    "time_run1 = end1 - start1\n",
    "\n",
    "validation_error = mean_squared_error(vallabels,pred1)\n",
    "print(\"Validation Error = \", validation_error)\n",
    "print(\"Validation Data Time = \", time_run1, \"\\n\")\n",
    "\n",
    "#KNeighborsClassifier\n",
    "\n",
    "print(\"KNeighborsClassifier:\")\n",
    "x = KNeighborsClassifier()\n",
    "\n",
    "start = time.time()\n",
    "\n",
    "x.fit(traindata, trainlabels)\n",
    "    \n",
    "end = time.time()\n",
    "pred = x.predict(traindata)\n",
    "time_run = (end - start)\n",
    "\n",
    "#training_error = mean_squared_error(trainlabels,pred)\n",
    "training_error = np.mean(np.square(np.array(pred)-np.array(trainlabels)))\n",
    "print(\"Training Error = \", training_error)\n",
    "print(\"Fit Time = \", time_run)\n",
    "\n",
    "start1 = time.time()\n",
    "pred1 = x.predict(valdata)\n",
    "end1 = time.time()\n",
    "time_run1 = end1 - start1\n",
    "\n",
    "validation_error = mean_squared_error(vallabels,pred1)\n",
    "print(\"Validation Error = \", validation_error)\n",
    "print(\"Validation Data Time = \", time_run1, \"\\n\")\n",
    "\n",
    "\n"
   ]
  },
  {
   "cell_type": "markdown",
   "metadata": {},
   "source": [
    "**Extra (not evaluated):** Based on the results of this problem and knowledge of the application at hand (spam filtering), pick one of the classifiers in this problem and describe how you would use it as part of a spam filter for the University of Illinois email system. Sketch out a system design at a very high level -- how you would train the spam filter to deal with new threats, would you filter everyone's email jointly, etc. You may get some inspiration from the [girls and boys](https://gmail.googleblog.com/2007/10/how-our-spam-filter-works.html) at [Gmail](https://gmail.googleblog.com/2015/07/the-mail-you-want-not-spam-you-dont.html), the [chimps at MailChimp](http://kb.mailchimp.com/delivery/spam-filters/about-spam-filters) or other places."
   ]
  },
  {
   "cell_type": "markdown",
   "metadata": {},
   "source": [
    "Write a function that calculates the confusion matrix. . **(10 points)**\n",
    "\n",
    "Run the classifier you selected in the previous part of the problem on the test data. The following code displays the test error and the output of the function. **(10 points)**"
   ]
  },
  {
   "cell_type": "code",
   "execution_count": 64,
   "metadata": {},
   "outputs": [
    {
     "name": "stdout",
     "output_type": "stream",
     "text": [
      "Confusion Matrix: \n",
      " [[1710    8]\n",
      " [   7  613]]\n",
      "True Positive Rate =  0.9887096774193549\n",
      "Test Error =  0.02566295979469632\n"
     ]
    }
   ],
   "source": [
    "# Put your code here\n",
    "from sklearn.metrics import recall_score\n",
    "from sklearn.metrics import confusion_matrix\n",
    "\n",
    "def confusion_matrix_func(legit, pred_labels):\n",
    "    matrix = confusion_matrix(legit, pred_labels)\n",
    "    TPR = recall_score(legit, pred_labels)\n",
    "    \n",
    "    return matrix, TPR\n",
    "\n",
    "# Selecting LinearSVC\n",
    "\n",
    "#print(y)\n",
    "new_pred = y.predict(testdata)\n",
    "test_error = np.mean(np.square(np.array(new_pred)-np.array(testlabels)))\n",
    "\n",
    "confu_matrix, True_Pos_Rate = confusion_matrix_func(testlabels, new_pred)\n",
    "\n",
    "print(\"Confusion Matrix: \\n\", confu_matrix)\n",
    "print(\"True Positive Rate = \", True_Pos_Rate)\n",
    "print(\"Test Error = \", test_error)"
   ]
  },
  {
   "cell_type": "markdown",
   "metadata": {},
   "source": [
    "As a sanity check, you should observe that your true positive rate is above 0.95 (i.e. highly sensitive)."
   ]
  },
  {
   "cell_type": "markdown",
   "metadata": {
    "collapsed": true
   },
   "source": [
    "### Problem 2: Cross-Validation (50 Points)"
   ]
  },
  {
   "cell_type": "markdown",
   "metadata": {},
   "source": [
    "Now, we will load some data (acquired from <a href=\"http://www.cs.ubc.ca/~murphyk/\">K.P. Murphy</a>'s <a href=\"https://github.com/probml/pmtk3\"> PMTK tookit</a>)."
   ]
  },
  {
   "cell_type": "code",
   "execution_count": 65,
   "metadata": {},
   "outputs": [],
   "source": [
    "problem2_tmp= genfromtxt('p2.csv', delimiter=',')\n",
    "\n",
    "# Randomly reorder the data\n",
    "np.random.seed(seed=2217) # seed the RNG for repeatability\n",
    "idx=np.random.permutation(problem2_tmp.shape[0])\n",
    "problem2_tmp=problem2_tmp[idx]\n",
    "\n",
    "#The training data which you will use is called \"traindata\"\n",
    "traindata=problem2_tmp[:200,:2]\n",
    "#The training labels are in \"labels\"\n",
    "trainlabels=problem2_tmp[:200,2]\n",
    "\n",
    "#The test data which you will use is called \"testdata\" with labels \"testlabels\"\n",
    "testdata=problem2_tmp[200:,:2]\n",
    "testlabels=problem2_tmp[200:,2]\n",
    "\n",
    "# You should not re-shuffle your data in your functions!"
   ]
  },
  {
   "cell_type": "markdown",
   "metadata": {},
   "source": [
    "Write a function which implements $5$-fold cross-validation to estimate the error of a classifier with cross-validation with the 0,1-loss for k-Nearest Neighbors (kNN). \n",
    "\n",
    "You will be given as input:\n",
    "* A (N,d) numpy.ndarray of training data, *trainData* (with N divisible by 5)\n",
    "* A length $N$ numpy.ndarray of training labels, *trainLabels*\n",
    "* A number $k$, for which cross-validated error estimates will be outputted for $1,\\ldots,k$\n",
    "\n",
    "Your output will be a vector (represented as a numpy.ndarray) *err*, such that *err[i]* is the cross-validated estimate of using i neighbors (*err* will be of length $k+1$; the zero-th component of the vector will be meaningless). \n",
    "\n",
    "**For this problem, take your folds to be 0:N/5, N/5:2N/5, ..., 4N/5:N for cross-validation (In general, however, the folds should be randomly divided).**\n",
    "\n",
    "Use scikit-learn's sklearn.neighbors.KNeighborsClassifier to perform the training and classification for the kNN models involved.  <b>(25 points)</b>"
   ]
  },
  {
   "cell_type": "markdown",
   "metadata": {},
   "source": [
    "Write a function that *calls the above function* and returns 1) the output from the previous function, 2) the number of neighbors within $1,\\ldots,30$ that minimizes the cross-validation error, and 3) the correponding minimum error. <b>(15 points)</b>"
   ]
  },
  {
   "cell_type": "markdown",
   "metadata": {},
   "source": [
    "The following code helps you to visualize your result. It plots the cross-validation error with respect to the number of neighbors. Your best number of neighbors should be roughly at the middle of your err array."
   ]
  },
  {
   "cell_type": "code",
   "execution_count": 71,
   "metadata": {},
   "outputs": [],
   "source": [
    "from sklearn.metrics import zero_one_loss\n",
    "import matplotlib.pyplot as plt\n",
    "\n",
    "class Question2: \n",
    "    def minimizer_K(self, traindata,trainlabels,k):\n",
    "        dim = trainlabels.shape[0]\n",
    "        T = dim/5\n",
    "        \n",
    "        err = np.zeros(k+1)\n",
    "        \n",
    "        for i in range(1, k+1):\n",
    "            b = KNeighborsClassifier(n_neighbors = i)\n",
    "            for j in range(5):\n",
    "                b.fit(np.delete(traindata, np.s_[int(j*T):int((j+1)*T)], 0), np.delete(trainlabels, np.s_[int(j*T):int((j+1)*T)], 0))\n",
    "                \n",
    "                X = 1-b.score(traindata[int(j*T):int((j+1)*T)], trainlabels[int(j*T):int((j+1)*T)])\n",
    "                err[i] = X/5 + err[i]\n",
    "        \n",
    "        err_min =999999999\n",
    "        for k in range(1, k+1):\n",
    "            if err_min > err[k]:\n",
    "                \n",
    "                err_min = err[k] #update corresponding min error\n",
    "                \n",
    "                num_neigh =k #update new num of neighbors\n",
    "                \n",
    "        return err, num_neigh, err_min\n",
    "        \n",
    "        "
   ]
  },
  {
   "cell_type": "code",
   "execution_count": 72,
   "metadata": {},
   "outputs": [
    {
     "name": "stdout",
     "output_type": "stream",
     "text": [
      "The best number of neighbors is: 14\n",
      "The corresponding error is: 0.175\n"
     ]
    },
    {
     "data": {
      "image/png": "[encoded data removed]",
      "text/plain": [
       "<Figure size 432x288 with 1 Axes>"
      ]
     },
     "metadata": {
      "needs_background": "light"
     },
     "output_type": "display_data"
    }
   ],
   "source": [
    "q2 = Question2()\n",
    "err, k_min, err_min = q2.minimizer_K(traindata,trainlabels,30)\n",
    "\n",
    "plot(np.arange(1,31),err[1:])\n",
    "xlabel('Number of Neighbors')\n",
    "ylabel('Cross-validation error')\n",
    "axis('tight')\n",
    "print(\"The best number of neighbors is:\", k_min)\n",
    "print(\"The corresponding error is:\", err_min)"
   ]
  },
  {
   "cell_type": "markdown",
   "metadata": {},
   "source": [
    "Train a kNN model on the whole training data using the number of neighbors you found in the previous part of the question, and apply it to the test data. **(10 points)**"
   ]
  },
  {
   "cell_type": "code",
   "execution_count": 70,
   "metadata": {},
   "outputs": [
    {
     "name": "stdout",
     "output_type": "stream",
     "text": [
      "Test Error = 0.21399999999999997\n"
     ]
    }
   ],
   "source": [
    "from sklearn.metrics import zero_one_loss\n",
    "\n",
    "bleh = KNeighborsClassifier(n_neighbors = 14)\n",
    "bleh.fit(traindata, trainlabels)\n",
    "\n",
    "pred_test = bleh.predict(testdata)\n",
    "test_error = zero_one_loss(testlabels, pred_test)\n",
    "\n",
    "print(\"Test Error =\", test_error)\n"
   ]
  },
  {
   "cell_type": "markdown",
   "metadata": {},
   "source": [
    "As a sanity check, the test error should be around 0.2."
   ]
  },
  {
   "cell_type": "markdown",
   "metadata": {
    "collapsed": true
   },
   "source": [
    "## And this concludes Lab 4! Congratulations!"
   ]
  }
 ],
 "metadata": {
  "anaconda-cloud": {},
  "kernelspec": {
   "display_name": "Python 3 (ipykernel)",
   "language": "python",
   "name": "python3"
  },
  "language_info": {
   "codemirror_mode": {
    "name": "ipython",
    "version": 3
   },
   "file_extension": ".py",
   "mimetype": "text/x-python",
   "name": "python",
   "nbconvert_exporter": "python",
   "pygments_lexer": "ipython3",
   "version": "3.9.12"
  }
 },
 "nbformat": 4,
 "nbformat_minor": 1
}
